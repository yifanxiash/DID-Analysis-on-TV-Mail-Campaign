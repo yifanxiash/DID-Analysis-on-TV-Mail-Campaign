{
 "cells": [
  {
   "cell_type": "markdown",
   "metadata": {},
   "source": [
    "##DID-Analysis-on-TV-Mail-Campaign##\n",
    "This is a small project to simulate TV&Mail campaign process and using Difference in Difference method to measure how mail is affecting our customer acqusition."
   ]
  },
  {
   "cell_type": "code",
   "execution_count": 2,
   "metadata": {
    "collapsed": true
   },
   "outputs": [],
   "source": [
    "#import all the modlues that is required\n",
    "import pandas as pd\n",
    "import numpy as np\n",
    "import re\n",
    "import seaborn\n",
    "seaborn.set()\n",
    "import matplotlib.pyplot as plt\n",
    "from matplotlib import style\n",
    "%matplotlib inline \n",
    "style.use('ggplot')\n",
    "import faker\n",
    "from faker import Faker\n",
    "from random import sample\n",
    "from datetime import datetime, timedelta\n",
    "from datetime import date\n",
    "import datetime\n",
    "import random\n",
    "from random import randint\n",
    "from collections import OrderedDict"
   ]
  },
  {
   "cell_type": "markdown",
   "metadata": {},
   "source": [
    "####Generate Campaign info table to record the campign info for future analysis\n",
    "#####Camaign_info\\\n",
    "Camaign_Type: string\\\n",
    "StartDate: date\\\n",
    "EndDate: date\\\n",
    "Price: decimal\\\n",
    "Units: int\\\n",
    "Borough: string\\"
   ]
  },
  {
   "cell_type": "code",
   "execution_count": 3,
   "metadata": {
    "collapsed": false
   },
   "outputs": [
    {
     "data": {
      "text/html": [
       "<div>\n",
       "<table border=\"1\" class=\"dataframe\">\n",
       "  <thead>\n",
       "    <tr style=\"text-align: right;\">\n",
       "      <th></th>\n",
       "      <th>Campign_Type</th>\n",
       "      <th>StartDate</th>\n",
       "      <th>EndDate</th>\n",
       "      <th>Price</th>\n",
       "      <th>Units</th>\n",
       "      <th>Borough</th>\n",
       "    </tr>\n",
       "  </thead>\n",
       "  <tbody>\n",
       "    <tr>\n",
       "      <th>0</th>\n",
       "      <td>TV</td>\n",
       "      <td>2018-01-01</td>\n",
       "      <td>2018-04-01</td>\n",
       "      <td>5</td>\n",
       "      <td>1000</td>\n",
       "      <td>Manhattan</td>\n",
       "    </tr>\n",
       "    <tr>\n",
       "      <th>1</th>\n",
       "      <td>Mail</td>\n",
       "      <td>2018-02-01</td>\n",
       "      <td>2018-03-01</td>\n",
       "      <td>10</td>\n",
       "      <td>500</td>\n",
       "      <td>UpperEast&amp;UpperWest</td>\n",
       "    </tr>\n",
       "    <tr>\n",
       "      <th>2</th>\n",
       "      <td>Radio</td>\n",
       "      <td>2018-03-01</td>\n",
       "      <td>2018-04-01</td>\n",
       "      <td>12</td>\n",
       "      <td>300</td>\n",
       "      <td>UpperEast</td>\n",
       "    </tr>\n",
       "  </tbody>\n",
       "</table>\n",
       "</div>"
      ],
      "text/plain": [
       "  Campign_Type   StartDate     EndDate Price Units              Borough\n",
       "0           TV  2018-01-01  2018-04-01     5  1000            Manhattan\n",
       "1         Mail  2018-02-01  2018-03-01    10   500  UpperEast&UpperWest\n",
       "2        Radio  2018-03-01  2018-04-01    12   300            UpperEast"
      ]
     },
     "execution_count": 3,
     "metadata": {},
     "output_type": "execute_result"
    }
   ],
   "source": [
    "###Factors###\n",
    "n = 1000 #Total Sample Size\n",
    "m = 500  #Treatment Sample Size\n",
    "Mail_StartDate, Mail_EndaDate, Mail_price, Mail_Unit,Mail_Bor = '2018-02-01','2018-03-01', 10,m,'UpperEast&UpperWest'\n",
    "\n",
    "###Create Campign info table to record all the campagin details###\n",
    "data = np.array([['Campign_Type','StartDate','EndDate','Price','Units','Borough'],\n",
    "                ['TV','2018-01-01','2018-04-01', 5,n,'Manhattan'],\n",
    "                ['Mail',Mail_StartDate, Mail_EndaDate, Mail_price, m, Mail_Bor],\n",
    "                ['Radio','2018-03-01','2018-04-01', 12,300,'UpperEast']]) \n",
    "\n",
    "campign_info = pd.DataFrame(data = data[1:,:],\n",
    "                            columns = data[0,:])\n",
    "campign_info.head()"
   ]
  },
  {
   "cell_type": "markdown",
   "metadata": {},
   "source": [
    "####Create Resident Info, when they are affected by campagin, GrubHub enrollment status and enrollment Start date"
   ]
  },
  {
   "cell_type": "code",
   "execution_count": 4,
   "metadata": {
    "collapsed": false
   },
   "outputs": [
    {
     "data": {
      "text/html": [
       "<div>\n",
       "<table border=\"1\" class=\"dataframe\">\n",
       "  <thead>\n",
       "    <tr style=\"text-align: right;\">\n",
       "      <th></th>\n",
       "      <th>FirstName</th>\n",
       "      <th>LastName</th>\n",
       "      <th>Address</th>\n",
       "      <th>Borough</th>\n",
       "      <th>PhoneNumer</th>\n",
       "      <th>Enrollment</th>\n",
       "      <th>Enrollment_StartDate</th>\n",
       "      <th>TV_Target</th>\n",
       "      <th>Mail_Target</th>\n",
       "      <th>Train_Target</th>\n",
       "    </tr>\n",
       "  </thead>\n",
       "  <tbody>\n",
       "    <tr>\n",
       "      <th>0</th>\n",
       "      <td>Trevor</td>\n",
       "      <td>Zavala</td>\n",
       "      <td>Sims Stravenue</td>\n",
       "      <td>Manhattan</td>\n",
       "      <td>565.639.5098x495</td>\n",
       "      <td>False</td>\n",
       "      <td>None</td>\n",
       "      <td>True</td>\n",
       "      <td>True</td>\n",
       "      <td>False</td>\n",
       "    </tr>\n",
       "    <tr>\n",
       "      <th>1</th>\n",
       "      <td>Austin</td>\n",
       "      <td>Smith</td>\n",
       "      <td>Amy Ramp</td>\n",
       "      <td>Manhattan</td>\n",
       "      <td>(884)762-8384</td>\n",
       "      <td>False</td>\n",
       "      <td>None</td>\n",
       "      <td>True</td>\n",
       "      <td>False</td>\n",
       "      <td>False</td>\n",
       "    </tr>\n",
       "    <tr>\n",
       "      <th>2</th>\n",
       "      <td>Katie</td>\n",
       "      <td>Johnston</td>\n",
       "      <td>Shaw Trafficway</td>\n",
       "      <td>Manhattan</td>\n",
       "      <td>1-804-028-6879x000</td>\n",
       "      <td>False</td>\n",
       "      <td>None</td>\n",
       "      <td>True</td>\n",
       "      <td>True</td>\n",
       "      <td>False</td>\n",
       "    </tr>\n",
       "    <tr>\n",
       "      <th>3</th>\n",
       "      <td>Cory</td>\n",
       "      <td>Knox</td>\n",
       "      <td>Andrea Expressway</td>\n",
       "      <td>Manhattan</td>\n",
       "      <td>1-083-784-6689</td>\n",
       "      <td>False</td>\n",
       "      <td>None</td>\n",
       "      <td>True</td>\n",
       "      <td>True</td>\n",
       "      <td>False</td>\n",
       "    </tr>\n",
       "    <tr>\n",
       "      <th>4</th>\n",
       "      <td>Frank</td>\n",
       "      <td>Kelley</td>\n",
       "      <td>Villa Mount</td>\n",
       "      <td>Manhattan</td>\n",
       "      <td>1-898-628-3942x8299</td>\n",
       "      <td>False</td>\n",
       "      <td>None</td>\n",
       "      <td>True</td>\n",
       "      <td>True</td>\n",
       "      <td>False</td>\n",
       "    </tr>\n",
       "  </tbody>\n",
       "</table>\n",
       "</div>"
      ],
      "text/plain": [
       "  FirstName  LastName            Address    Borough           PhoneNumer  \\\n",
       "0    Trevor    Zavala     Sims Stravenue  Manhattan     565.639.5098x495   \n",
       "1    Austin     Smith           Amy Ramp  Manhattan        (884)762-8384   \n",
       "2     Katie  Johnston    Shaw Trafficway  Manhattan   1-804-028-6879x000   \n",
       "3      Cory      Knox  Andrea Expressway  Manhattan       1-083-784-6689   \n",
       "4     Frank    Kelley        Villa Mount  Manhattan  1-898-628-3942x8299   \n",
       "\n",
       "  Enrollment Enrollment_StartDate TV_Target Mail_Target Train_Target  \n",
       "0      False                 None      True        True        False  \n",
       "1      False                 None      True       False        False  \n",
       "2      False                 None      True        True        False  \n",
       "3      False                 None      True        True        False  \n",
       "4      False                 None      True        True        False  "
      ]
     },
     "execution_count": 4,
     "metadata": {},
     "output_type": "execute_result"
    }
   ],
   "source": [
    "class Resident:\n",
    " def __init__(self): \n",
    "    self.fake = Faker()\n",
    "    self.FirstName = self.fake.first_name()\n",
    "    self.LastName = self.fake.last_name()\n",
    "    self.Address = self.fake.street_name()\n",
    "    self.PhoneNumber = self.fake.phone_number()\n",
    " \n",
    "resident_info = pd.DataFrame(columns =['FirstName','LastName','Address','Borough','PhoneNumer','Enrollment',\n",
    "                                       'Enrollment_StartDate','TV_Target','Mail_Target','Train_Target'])\n",
    "for i in range(n):\n",
    "        resident = Resident()\n",
    "        resident_info.loc[i,:] = [resident.FirstName,resident.LastName,resident.Address,'Manhattan',resident.PhoneNumber,\n",
    "                                   False, None, False, False, False]\n",
    "        resident_info.loc[i,'TV_Target'] = True\n",
    "rindex =  np.array(sample(range(len(resident_info)), m))\n",
    "resident_info.loc[rindex,'Mail_Target'] = True\n",
    "resident_info.head()"
   ]
  },
  {
   "cell_type": "markdown",
   "metadata": {},
   "source": [
    "####Simulate the TV Campign and Mail Campign\n",
    "#####Assumption:\n",
    "1. The number customers coming from TV is having a linear relation with the # of days since the campign started:\n",
    "   number of Customers(TV) = 2Days + 100 + ∆\n",
    "2. There is no cannibalization or correlation between two campaign\n",
    "3. Since we did no world-of-mouth effect on two campaign, customers are purely attracted by campagins"
   ]
  },
  {
   "cell_type": "code",
   "execution_count": 5,
   "metadata": {
    "collapsed": false
   },
   "outputs": [
    {
     "data": {
      "text/html": [
       "<div>\n",
       "<table border=\"1\" class=\"dataframe\">\n",
       "  <thead>\n",
       "    <tr style=\"text-align: right;\">\n",
       "      <th></th>\n",
       "      <th>FirstName</th>\n",
       "      <th>LastName</th>\n",
       "      <th>Address</th>\n",
       "      <th>Borough</th>\n",
       "      <th>PhoneNumer</th>\n",
       "      <th>Enrollment</th>\n",
       "      <th>Enrollment_StartDate</th>\n",
       "      <th>TV_Target</th>\n",
       "      <th>Mail_Target</th>\n",
       "      <th>Train_Target</th>\n",
       "    </tr>\n",
       "  </thead>\n",
       "  <tbody>\n",
       "    <tr>\n",
       "      <th>0</th>\n",
       "      <td>Trevor</td>\n",
       "      <td>Zavala</td>\n",
       "      <td>Sims Stravenue</td>\n",
       "      <td>Manhattan</td>\n",
       "      <td>565.639.5098x495</td>\n",
       "      <td>False</td>\n",
       "      <td>None</td>\n",
       "      <td>True</td>\n",
       "      <td>True</td>\n",
       "      <td>False</td>\n",
       "    </tr>\n",
       "    <tr>\n",
       "      <th>1</th>\n",
       "      <td>Austin</td>\n",
       "      <td>Smith</td>\n",
       "      <td>Amy Ramp</td>\n",
       "      <td>Manhattan</td>\n",
       "      <td>(884)762-8384</td>\n",
       "      <td>False</td>\n",
       "      <td>None</td>\n",
       "      <td>True</td>\n",
       "      <td>False</td>\n",
       "      <td>False</td>\n",
       "    </tr>\n",
       "    <tr>\n",
       "      <th>2</th>\n",
       "      <td>Katie</td>\n",
       "      <td>Johnston</td>\n",
       "      <td>Shaw Trafficway</td>\n",
       "      <td>Manhattan</td>\n",
       "      <td>1-804-028-6879x000</td>\n",
       "      <td>True</td>\n",
       "      <td>2018-01-18 00:00:00</td>\n",
       "      <td>True</td>\n",
       "      <td>True</td>\n",
       "      <td>False</td>\n",
       "    </tr>\n",
       "    <tr>\n",
       "      <th>3</th>\n",
       "      <td>Cory</td>\n",
       "      <td>Knox</td>\n",
       "      <td>Andrea Expressway</td>\n",
       "      <td>Manhattan</td>\n",
       "      <td>1-083-784-6689</td>\n",
       "      <td>True</td>\n",
       "      <td>2018-02-15 00:00:00</td>\n",
       "      <td>True</td>\n",
       "      <td>True</td>\n",
       "      <td>False</td>\n",
       "    </tr>\n",
       "    <tr>\n",
       "      <th>4</th>\n",
       "      <td>Frank</td>\n",
       "      <td>Kelley</td>\n",
       "      <td>Villa Mount</td>\n",
       "      <td>Manhattan</td>\n",
       "      <td>1-898-628-3942x8299</td>\n",
       "      <td>True</td>\n",
       "      <td>2018-02-27 00:00:00</td>\n",
       "      <td>True</td>\n",
       "      <td>True</td>\n",
       "      <td>False</td>\n",
       "    </tr>\n",
       "  </tbody>\n",
       "</table>\n",
       "</div>"
      ],
      "text/plain": [
       "  FirstName  LastName            Address    Borough           PhoneNumer  \\\n",
       "0    Trevor    Zavala     Sims Stravenue  Manhattan     565.639.5098x495   \n",
       "1    Austin     Smith           Amy Ramp  Manhattan        (884)762-8384   \n",
       "2     Katie  Johnston    Shaw Trafficway  Manhattan   1-804-028-6879x000   \n",
       "3      Cory      Knox  Andrea Expressway  Manhattan       1-083-784-6689   \n",
       "4     Frank    Kelley        Villa Mount  Manhattan  1-898-628-3942x8299   \n",
       "\n",
       "  Enrollment Enrollment_StartDate TV_Target Mail_Target Train_Target  \n",
       "0      False                 None      True        True        False  \n",
       "1      False                 None      True       False        False  \n",
       "2       True  2018-01-18 00:00:00      True        True        False  \n",
       "3       True  2018-02-15 00:00:00      True        True        False  \n",
       "4       True  2018-02-27 00:00:00      True        True        False  "
      ]
     },
     "execution_count": 5,
     "metadata": {},
     "output_type": "execute_result"
    }
   ],
   "source": [
    "#Time range: 01/01/2018 to 03/01/2018\n",
    "datelist = pd.date_range('2018-01-01', '2018-03-01').tolist() \n",
    "cus_old = 0\n",
    "Customer_status = []\n",
    "for date_now in datelist:\n",
    "    ###### Simulate the Customer Growth from TV Campagin\n",
    "    days = str(date_now - datetime.datetime.strptime('2018-01-01 00:00:00', \"%Y-%m-%d %H:%M:%S\")) \n",
    "    TV_Customer  = 2 * int(days.split(\" \")[0]) + 100 + randint(-1,1) \n",
    "    TV_cus_new = TV_Customer - cus_old\n",
    "    ##group 1 where We have both TV Campign but not Mail Campign\n",
    "    sample_list = []\n",
    "    for i in resident_info[(resident_info['Enrollment'] == False) & (resident_info['TV_Target'] == True) \n",
    "                           & (resident_info['Mail_Target'] == False)].index: # only find those who has nto being affected yet\n",
    "        sample_list.append(i)\n",
    "        \n",
    "    for j in random.sample(sample_list,TV_cus_new):\n",
    "        resident_info.loc[j,\"Enrollment\"] = True\n",
    "        resident_info.loc[j,\"Enrollment_StartDate\"] = date_now\n",
    "        \n",
    "    ##group 2 where We have both TV Campign and Mail Campign\n",
    "    sample_list = []\n",
    "    for i in resident_info[(resident_info['Enrollment'] == False) & (resident_info['TV_Target'] == True) \n",
    "                           & (resident_info['Mail_Target'] == True)].index:\n",
    "        sample_list.append(i)\n",
    "    for j in random.sample(sample_list,TV_cus_new):\n",
    "        resident_info.loc[j,\"Enrollment\"] = True\n",
    "        resident_info.loc[j,\"Enrollment_StartDate\"] = date_now\n",
    "        \n",
    "    ####Simulate the Customer Growth from Mail Campign\n",
    "    if date_now >= datetime.datetime.strptime('2018-02-01 00:00:00', \"%Y-%m-%d %H:%M:%S\"):\n",
    "        Mail_New_Customer = randint(0,5) \n",
    "        sample_list = []\n",
    "        for i in resident_info[(resident_info['Enrollment'] == False) & (resident_info['TV_Target'] == True) \n",
    "                           & (resident_info['Mail_Target'] == True)].index:\n",
    "            sample_list.append(i)\n",
    "        for j in random.sample(sample_list,Mail_New_Customer):\n",
    "            resident_info.loc[j,\"Enrollment\"] = True\n",
    "            resident_info.loc[j,\"Enrollment_StartDate\"] = date_now\n",
    "    \n",
    "    #print(len(sample_list))\n",
    "    cus_old = TV_Customer\n",
    "resident_info.head() #how the resident_info will look like after the two-month campaign"
   ]
  },
  {
   "cell_type": "markdown",
   "metadata": {},
   "source": [
    "####Calculate the three types of Differences\n",
    "D1: New customers coming only be affected by TV campiagn\\\n",
    "D2: New customers coming only be affected by TV and Mail campiagn\\\n",
    "D3: Estimated customers coming only be affected by Mail campiagn\\\n",
    "D3 = D2 - D1"
   ]
  },
  {
   "cell_type": "code",
   "execution_count": 6,
   "metadata": {
    "collapsed": false
   },
   "outputs": [],
   "source": [
    "#Calculate the Cumulative Customer Counts for every day\n",
    "Group1 = resident_info['Enrollment_StartDate'][(resident_info['Enrollment'] == True) & (resident_info['TV_Target'] == True) \n",
    "                           & (resident_info['Mail_Target'] == False)].groupby(resident_info['Enrollment_StartDate']).count()\n",
    "\n",
    "Group2 = resident_info['Enrollment_StartDate'][(resident_info['Enrollment'] == True) & (resident_info['TV_Target'] == True) \n",
    "                           & (resident_info['Mail_Target'] == True)].groupby(resident_info['Enrollment_StartDate']).count()\n",
    "group1_list = []\n",
    "group2_list = []\n",
    "standard1 = []\n",
    "standard2 = []\n",
    "summ = 0\n",
    "j = 0\n",
    "for i in Group1.index:\n",
    "    if summ == 0:\n",
    "        group1_list.append([i, int(Group1[i])])\n",
    "    else:\n",
    "        group1_list.append([i, int(Group1[i]) + summ])\n",
    "    summ = int(Group1[i]) + summ\n",
    "\n",
    "D1 = summ\n",
    "summ = 0\n",
    "start = 0\n",
    "for i in Group2.index:\n",
    "    standard1.append([i, int(Group2[0])])\n",
    "    if i == datetime.datetime.strptime('2018-02-01 00:00:00', \"%Y-%m-%d %H:%M:%S\"):\n",
    "        start = summ\n",
    "    if start != 0:\n",
    "        standard2.append([i, start])\n",
    "    if summ == 0:\n",
    "        group2_list.append([i, int(Group2[i])])\n",
    "    else:\n",
    "        group2_list.append([i, int(Group2[i]) + summ])\n",
    "    summ = int(Group2[i]) + summ\n",
    "D2 = summ\n",
    "D3 = D2 - D1"
   ]
  },
  {
   "cell_type": "code",
   "execution_count": null,
   "metadata": {
    "collapsed": true
   },
   "outputs": [],
   "source": [
    "###Visualize the whole simulation process "
   ]
  },
  {
   "cell_type": "code",
   "execution_count": 175,
   "metadata": {
    "collapsed": false
   },
   "outputs": [
    {
     "name": "stdout",
     "output_type": "stream",
     "text": [
      "D1 = 219 ; D2 = 289 \n",
      "D3 = D2 - D1 = 70 (No. New Customers from Mail Campign)\n"
     ]
    },
    {
     "data": {
      "image/png": "[encoded data removed]",
      "text/plain": [
       "<matplotlib.figure.Figure at 0x11e7ad278>"
      ]
     },
     "metadata": {},
     "output_type": "display_data"
    }
   ],
   "source": [
    "print(\"D1 = \" + str(D1),\"; D2 = \"+str(D2), \"\\nD3 = D2 - D1 = \" + str(D2 - D1) + \" (No. New Customers from Mail Campign)\")\n",
    "plt.plot([i[0] for i in group1_list], [i[1] for i in group1_list], 'G', label='Group2: TV_Campign&Mail_Campign')\n",
    "plt.plot([i[0] for i in group2_list], [i[1] for i in group2_list],'g--', label='Group1: TV_Campign')\n",
    "plt.plot([i[0] for i in standard1], [i[1] for i in standard1], color='gray', linestyle='dashed')\n",
    "plt.plot([i[0] for i in standard2], [i[1] for i in standard2], color='gray', linestyle='dashed')\n",
    "plt.legend()\n",
    "plt.ylim((50,400))\n",
    "plt.rcParams['figure.figsize']=[10,10]\n",
    "plt.show()"
   ]
  }
 ],
 "metadata": {
  "kernelspec": {
   "display_name": "Python 3",
   "language": "python",
   "name": "python3"
  },
  "language_info": {
   "codemirror_mode": {
    "name": "ipython",
    "version": 3
   },
   "file_extension": ".py",
   "mimetype": "text/x-python",
   "name": "python",
   "nbconvert_exporter": "python",
   "pygments_lexer": "ipython3",
   "version": "3.5.2"
  }
 },
 "nbformat": 4,
 "nbformat_minor": 1
}
